{
 "cells": [
  {
   "cell_type": "markdown",
   "source": [
    "# TREC-2022\n",
    "## Search and Evaluation by Topics, Terms"
   ],
   "metadata": {
    "collapsed": false
   }
  },
  {
   "cell_type": "code",
   "execution_count": 2,
   "outputs": [
    {
     "name": "stdout",
     "output_type": "stream",
     "text": [
      "Collecting pandas\n",
      "  Downloading pandas-1.5.2-cp38-cp38-win_amd64.whl (11.0 MB)\n",
      "     ---------------------------------------- 11.0/11.0 MB 7.6 MB/s eta 0:00:00\n",
      "Requirement already satisfied: pytz>=2020.1 in c:\\users\\lee\\anaconda3\\envs\\search_script_for_trec\\lib\\site-packages (from pandas) (2022.1)\n",
      "Requirement already satisfied: python-dateutil>=2.8.1 in c:\\users\\lee\\anaconda3\\envs\\search_script_for_trec\\lib\\site-packages (from pandas) (2.8.2)\n",
      "Collecting numpy>=1.20.3\n",
      "  Downloading numpy-1.23.5-cp38-cp38-win_amd64.whl (14.7 MB)\n",
      "     ---------------------------------------- 14.7/14.7 MB 4.0 MB/s eta 0:00:00\n",
      "Requirement already satisfied: six>=1.5 in c:\\users\\lee\\anaconda3\\envs\\search_script_for_trec\\lib\\site-packages (from python-dateutil>=2.8.1->pandas) (1.16.0)\n",
      "Installing collected packages: numpy, pandas\n",
      "Successfully installed numpy-1.23.5 pandas-1.5.2\n"
     ]
    }
   ],
   "source": [
    "import typing\n",
    "!pip install pandas"
   ],
   "metadata": {
    "collapsed": false
   }
  },
  {
   "cell_type": "code",
   "execution_count": 4,
   "outputs": [
    {
     "name": "stdout",
     "output_type": "stream",
     "text": [
      "Collecting elasticsearch\n",
      "  Downloading elasticsearch-8.5.2-py3-none-any.whl (385 kB)\n",
      "     ------------------------------------- 385.3/385.3 kB 11.7 MB/s eta 0:00:00\n",
      "Collecting elastic-transport<9,>=8\n",
      "  Downloading elastic_transport-8.4.0-py3-none-any.whl (59 kB)\n",
      "     ---------------------------------------- 59.5/59.5 kB 3.3 MB/s eta 0:00:00\n",
      "Requirement already satisfied: certifi in c:\\users\\lee\\anaconda3\\envs\\search_script_for_trec\\lib\\site-packages (from elastic-transport<9,>=8->elasticsearch) (2022.9.24)\n",
      "Requirement already satisfied: urllib3<2,>=1.26.2 in c:\\users\\lee\\anaconda3\\envs\\search_script_for_trec\\lib\\site-packages (from elastic-transport<9,>=8->elasticsearch) (1.26.12)\n",
      "Installing collected packages: elastic-transport, elasticsearch\n",
      "Successfully installed elastic-transport-8.4.0 elasticsearch-8.5.2\n"
     ]
    }
   ],
   "source": [
    "!pip install elasticsearch"
   ],
   "metadata": {
    "collapsed": false
   }
  },
  {
   "cell_type": "code",
   "execution_count": 6,
   "outputs": [
    {
     "name": "stdout",
     "output_type": "stream",
     "text": [
      "Collecting tqdm\n",
      "  Downloading tqdm-4.64.1-py2.py3-none-any.whl (78 kB)\n",
      "     ---------------------------------------- 78.5/78.5 kB 4.5 MB/s eta 0:00:00\n",
      "Requirement already satisfied: colorama in c:\\users\\lee\\anaconda3\\envs\\search_script_for_trec\\lib\\site-packages (from tqdm) (0.4.5)\n",
      "Installing collected packages: tqdm\n",
      "Successfully installed tqdm-4.64.1\n"
     ]
    }
   ],
   "source": [
    "!pip install tqdm"
   ],
   "metadata": {
    "collapsed": false
   }
  },
  {
   "cell_type": "code",
   "execution_count": 18,
   "outputs": [
    {
     "name": "stdout",
     "output_type": "stream",
     "text": [
      "Collecting nltk\n",
      "  Downloading nltk-3.7-py3-none-any.whl (1.5 MB)\n",
      "     ---------------------------------------- 1.5/1.5 MB 7.9 MB/s eta 0:00:00\n",
      "Requirement already satisfied: tqdm in c:\\users\\lee\\anaconda3\\envs\\search_script_for_trec\\lib\\site-packages (from nltk) (4.64.1)\n",
      "Collecting regex>=2021.8.3\n",
      "  Downloading regex-2022.10.31-cp38-cp38-win_amd64.whl (267 kB)\n",
      "     -------------------------------------- 267.7/267.7 kB 8.3 MB/s eta 0:00:00\n",
      "Collecting joblib\n",
      "  Downloading joblib-1.2.0-py3-none-any.whl (297 kB)\n",
      "     -------------------------------------- 298.0/298.0 kB 9.3 MB/s eta 0:00:00\n",
      "Collecting click\n",
      "  Downloading click-8.1.3-py3-none-any.whl (96 kB)\n",
      "     ---------------------------------------- 96.6/96.6 kB ? eta 0:00:00\n",
      "Requirement already satisfied: colorama in c:\\users\\lee\\anaconda3\\envs\\search_script_for_trec\\lib\\site-packages (from click->nltk) (0.4.5)\n",
      "Installing collected packages: regex, joblib, click, nltk\n",
      "Successfully installed click-8.1.3 joblib-1.2.0 nltk-3.7 regex-2022.10.31\n"
     ]
    }
   ],
   "source": [
    "!pip install nltk"
   ],
   "metadata": {
    "collapsed": false
   }
  },
  {
   "cell_type": "code",
   "execution_count": 21,
   "outputs": [],
   "source": [
    "import os\n",
    "import xml.etree.ElementTree as ET\n",
    "import pandas as pd\n",
    "import ast\n",
    "\n",
    "from elasticsearch import Elasticsearch\n",
    "from tqdm import tqdm"
   ],
   "metadata": {
    "collapsed": false
   }
  },
  {
   "cell_type": "code",
   "execution_count": 22,
   "outputs": [],
   "source": [
    "_OUR_SERVER = \"http://210.117.182.30:9200\""
   ],
   "metadata": {
    "collapsed": false
   }
  },
  {
   "cell_type": "markdown",
   "source": [
    "***\n",
    "## 1. Import Datasets\n",
    "### Load Topics"
   ],
   "metadata": {
    "collapsed": false
   }
  },
  {
   "cell_type": "code",
   "execution_count": 8,
   "outputs": [
    {
     "name": "stdout",
     "output_type": "stream",
     "text": [
      "Count: 50\n",
      "Topic: \n",
      "A 19-year-old male came to clinic with some sexual concern.  He recently engaged in a relationship and is worried about the satisfaction of his girlfriend. He has a \"baby face\" according to his girlfriend's statement and he is not as muscular as his classmates.  On physical examination, there is some pubic hair and poorly developed secondary sexual characteristics. He is unable to detect coffee smell during the examination, but the visual acuity is normal. Ultrasound reveals the testes volume of 1-2 ml. The hormonal evaluation showed serum testosterone level of 65 ng/dL with low levels of GnRH.\n",
      "\n"
     ]
    }
   ],
   "source": [
    "topics = []\n",
    "\n",
    "topic_file = ET.parse(open('datasets/topics-2022.xml', 'r', encoding='UTF8'))\n",
    "root = topic_file.getroot()\n",
    "\n",
    "for topic in root.iter(\"topic\"):\n",
    "    topics.append(topic.text)\n",
    "\n",
    "print(f\"Count: {len(topics)}\")\n",
    "print(f\"Topic: {topics[0]}\")"
   ],
   "metadata": {
    "collapsed": false
   }
  },
  {
   "cell_type": "markdown",
   "source": [
    "### Load Clinical & Bio Terms"
   ],
   "metadata": {
    "collapsed": false
   }
  },
  {
   "cell_type": "code",
   "execution_count": 9,
   "outputs": [],
   "source": [
    "clinical_terms = []\n",
    "df = pd.read_csv('datasets/clinicalTerms-2022.csv')\n",
    "\n",
    "# ast.literal_eval :\n",
    "# \"[ ... ]\" -> [ ... ]\n",
    "for terms in df['Problem']:\n",
    "    clinical_terms.append(ast.literal_eval(terms))\n",
    "\n",
    "bio_terms = []\n",
    "df = pd.read_csv('datasets/bioTerms-2022.csv')\n",
    "\n",
    "for terms in df['Bio']:\n",
    "    bio_terms.append(ast.literal_eval(terms))"
   ],
   "metadata": {
    "collapsed": false
   }
  },
  {
   "cell_type": "code",
   "execution_count": 15,
   "outputs": [
    {
     "name": "stdout",
     "output_type": "stream",
     "text": [
      "Counts: 50, Topic_1: ['some pubic hair', 'poorly developed secondary sexual characteristics', 'coffee smell', 'low levels of GnRH']\n",
      "Counts: 50, Topic_1: ['satisfaction', 'visual acuity', 'testosterone', 'GnRH']\n"
     ]
    }
   ],
   "source": [
    "print(f'Counts: {len(clinical_terms)}, Topic_1: {clinical_terms[0]}')\n",
    "print(f'Counts: {len(bio_terms)}, Topic_1: {bio_terms[0]}')"
   ],
   "metadata": {
    "collapsed": false
   }
  },
  {
   "cell_type": "markdown",
   "source": [
    "### Load Expanded terms by QEModule"
   ],
   "metadata": {
    "collapsed": false
   }
  },
  {
   "cell_type": "code",
   "execution_count": 12,
   "outputs": [],
   "source": [
    "expanded_query = []\n",
    "df = pd.read_csv('datasets/expandedTerms-2022.csv')\n",
    "\n",
    "for terms in df['Terms']:\n",
    "    expanded_query.append(terms)"
   ],
   "metadata": {
    "collapsed": false
   }
  },
  {
   "cell_type": "code",
   "execution_count": 16,
   "outputs": [
    {
     "name": "stdout",
     "output_type": "stream",
     "text": [
      "Counts: 50, Topic_1: some pubic hair poorly developed secondary sexual characteristics coffee smell low levels of GnRHsatisfaction visual acuity testosterone GnRH fairly sexuality expressiveness heavily symphysis systems less primary drink primarily smells odor unique sex regrowth impairments schools skin imagery characteristic traits wine blond level higher\n"
     ]
    }
   ],
   "source": [
    "print(f'Counts: {len(expanded_query)}, Topic_1: {expanded_query[0]}')"
   ],
   "metadata": {
    "collapsed": false
   }
  },
  {
   "cell_type": "markdown",
   "source": [
    "***\n",
    "## 2. Elasticsearch"
   ],
   "metadata": {
    "collapsed": false
   }
  },
  {
   "cell_type": "code",
   "execution_count": 29,
   "outputs": [],
   "source": [
    "urls = [_OUR_SERVER]\n",
    "es_host = Elasticsearch(urls, request_timeout=60)\n",
    "\n",
    "# The list of fields to search\n",
    "es_fields = [\"brief_title\",\n",
    "             \"brief_summary\",\n",
    "             \"detailed_description\",\n",
    "             \"inclusion_criteria^1.5\",\n",
    "             \"exclusion_criteria\"]\n",
    "\n",
    "# The name of index\n",
    "es_index = \"idx-clinical-study-final\""
   ],
   "metadata": {
    "collapsed": false
   }
  },
  {
   "cell_type": "markdown",
   "source": [
    "### Make queries for Elasticsearch"
   ],
   "metadata": {
    "collapsed": false
   }
  },
  {
   "cell_type": "code",
   "execution_count": 25,
   "outputs": [],
   "source": [
    "from methods import get_first_sent, find_terms, get_should_list\n",
    "\n",
    "# es_bodies: Specific queries for each topic\n",
    "es_bodies = []\n",
    "\n",
    "for i in range(len(topics)):\n",
    "    terms = bio_terms[i] + clinical_terms[i]\n",
    "    normal_text = \" \".join(terms)\n",
    "    expanded_text = expanded_query[i]    # From QEModule\n",
    "\n",
    "    first_sent = get_first_sent(topics[i])\n",
    "    first_terms = find_terms(first_sent, terms)\n",
    "    first_terms = list(set(first_terms))   # Deduplication\n",
    "\n",
    "    phrases = get_should_list(terms + first_terms, es_fields)\n",
    "\n",
    "    body = {\n",
    "        \"from\" : 0,\n",
    "        \"size\" : 1000,\n",
    "        \"_source\": [\"nct_id\"],\n",
    "        \"query\": {\n",
    "            \"bool\": {\n",
    "                \"must\": [\n",
    "                    # jbnu1\n",
    "                    { \"multi_match\": { \"query\": topics[i] + \" \" + normal_text, \"fields\": es_fields, \"analyzer\": \"std_analyzer\"} },\n",
    "                    # jbnu2\n",
    "                    #{ \"multi_match\": { \"query\": topics[i] + \" \" + expanded_text, \"fields\": es_fields, \"analyzer\": \"std_analyzer\"} },\n",
    "                ],\n",
    "                \"should\": phrases\n",
    "            }\n",
    "        }\n",
    "    }\n",
    "    es_bodies.append(body)"
   ],
   "metadata": {
    "collapsed": false
   }
  },
  {
   "cell_type": "code",
   "execution_count": 28,
   "outputs": [
    {
     "data": {
      "text/plain": "{'from': 0,\n 'size': 1000,\n '_source': ['nct_id'],\n 'query': {'bool': {'must': [{'multi_match': {'query': '\\nA 19-year-old male came to clinic with some sexual concern.  He recently engaged in a relationship and is worried about the satisfaction of his girlfriend. He has a \"baby face\" according to his girlfriend\\'s statement and he is not as muscular as his classmates.  On physical examination, there is some pubic hair and poorly developed secondary sexual characteristics. He is unable to detect coffee smell during the examination, but the visual acuity is normal. Ultrasound reveals the testes volume of 1-2 ml. The hormonal evaluation showed serum testosterone level of 65 ng/dL with low levels of GnRH.\\n satisfaction visual acuity testosterone GnRH some pubic hair poorly developed secondary sexual characteristics coffee smell low levels of GnRH',\n      'fields': ['brief_title',\n       'brief_summary',\n       'detailed_description',\n       'inclusion_criteria^1.5',\n       'exclusion_criteria'],\n      'analyzer': 'std_analyzer'}}],\n   'should': [{'match_phrase': {'brief_title': {'query': 'satisfaction',\n       'slop': 2,\n       'boost': 1}}},\n    {'match_phrase': {'brief_title': {'query': 'satisfaction',\n       'slop': 20,\n       'boost': 1}}},\n    {'match_phrase': {'brief_summary': {'query': 'satisfaction',\n       'slop': 2,\n       'boost': 1}}},\n    {'match_phrase': {'brief_summary': {'query': 'satisfaction',\n       'slop': 20,\n       'boost': 1}}},\n    {'match_phrase': {'brief_title': {'query': 'visual acuity',\n       'slop': 2,\n       'boost': 1}}},\n    {'match_phrase': {'brief_title': {'query': 'visual acuity',\n       'slop': 20,\n       'boost': 1}}},\n    {'match_phrase': {'brief_summary': {'query': 'visual acuity',\n       'slop': 2,\n       'boost': 1}}},\n    {'match_phrase': {'brief_summary': {'query': 'visual acuity',\n       'slop': 20,\n       'boost': 1}}},\n    {'match_phrase': {'brief_title': {'query': 'testosterone',\n       'slop': 2,\n       'boost': 1}}},\n    {'match_phrase': {'brief_title': {'query': 'testosterone',\n       'slop': 20,\n       'boost': 1}}},\n    {'match_phrase': {'brief_summary': {'query': 'testosterone',\n       'slop': 2,\n       'boost': 1}}},\n    {'match_phrase': {'brief_summary': {'query': 'testosterone',\n       'slop': 20,\n       'boost': 1}}},\n    {'match_phrase': {'brief_title': {'query': 'GnRH',\n       'slop': 2,\n       'boost': 1}}},\n    {'match_phrase': {'brief_title': {'query': 'GnRH',\n       'slop': 20,\n       'boost': 1}}},\n    {'match_phrase': {'brief_summary': {'query': 'GnRH',\n       'slop': 2,\n       'boost': 1}}},\n    {'match_phrase': {'brief_summary': {'query': 'GnRH',\n       'slop': 20,\n       'boost': 1}}},\n    {'match_phrase': {'brief_title': {'query': 'some pubic hair',\n       'slop': 2,\n       'boost': 1}}},\n    {'match_phrase': {'brief_title': {'query': 'some pubic hair',\n       'slop': 20,\n       'boost': 1}}},\n    {'match_phrase': {'brief_summary': {'query': 'some pubic hair',\n       'slop': 2,\n       'boost': 1}}},\n    {'match_phrase': {'brief_summary': {'query': 'some pubic hair',\n       'slop': 20,\n       'boost': 1}}},\n    {'match_phrase': {'brief_title': {'query': 'poorly developed secondary sexual characteristics',\n       'slop': 2,\n       'boost': 1}}},\n    {'match_phrase': {'brief_title': {'query': 'poorly developed secondary sexual characteristics',\n       'slop': 20,\n       'boost': 1}}},\n    {'match_phrase': {'brief_summary': {'query': 'poorly developed secondary sexual characteristics',\n       'slop': 2,\n       'boost': 1}}},\n    {'match_phrase': {'brief_summary': {'query': 'poorly developed secondary sexual characteristics',\n       'slop': 20,\n       'boost': 1}}},\n    {'match_phrase': {'brief_title': {'query': 'coffee smell',\n       'slop': 2,\n       'boost': 1}}},\n    {'match_phrase': {'brief_title': {'query': 'coffee smell',\n       'slop': 20,\n       'boost': 1}}},\n    {'match_phrase': {'brief_summary': {'query': 'coffee smell',\n       'slop': 2,\n       'boost': 1}}},\n    {'match_phrase': {'brief_summary': {'query': 'coffee smell',\n       'slop': 20,\n       'boost': 1}}},\n    {'match_phrase': {'brief_title': {'query': 'low levels of GnRH',\n       'slop': 2,\n       'boost': 1}}},\n    {'match_phrase': {'brief_title': {'query': 'low levels of GnRH',\n       'slop': 20,\n       'boost': 1}}},\n    {'match_phrase': {'brief_summary': {'query': 'low levels of GnRH',\n       'slop': 2,\n       'boost': 1}}},\n    {'match_phrase': {'brief_summary': {'query': 'low levels of GnRH',\n       'slop': 20,\n       'boost': 1}}}]}}}"
     },
     "execution_count": 28,
     "metadata": {},
     "output_type": "execute_result"
    }
   ],
   "source": [
    "es_bodies[0]"
   ],
   "metadata": {
    "collapsed": false
   }
  },
  {
   "cell_type": "markdown",
   "source": [
    "### Search and Get responses from Elasticsearch"
   ],
   "metadata": {
    "collapsed": false
   }
  },
  {
   "cell_type": "code",
   "execution_count": 31,
   "outputs": [
    {
     "name": "stderr",
     "output_type": "stream",
     "text": [
      "  0%|          | 0/50 [00:00<?, ?it/s]C:\\Users\\Lee\\AppData\\Local\\Temp\\ipykernel_71440\\1301371275.py:4: DeprecationWarning: The 'body' parameter is deprecated and will be removed in a future version. Instead use individual parameters.\n",
      "  res = es_host.search(index=es_index, body=es_bodies[i])\n",
      "C:\\Users\\Lee\\AppData\\Local\\Temp\\ipykernel_71440\\1301371275.py:4: ElasticsearchWarning: Elasticsearch built-in security features are not enabled. Without authentication, your cluster could be accessible to anyone. See https://www.elastic.co/guide/en/elasticsearch/reference/7.17/security-minimal-setup.html to enable security.\n",
      "  res = es_host.search(index=es_index, body=es_bodies[i])\n",
      "100%|██████████| 50/50 [01:21<00:00,  1.62s/it]\n"
     ]
    }
   ],
   "source": [
    "result_list = []\n",
    "\n",
    "for i in tqdm(range(len(topics))):\n",
    "    res = es_host.search(index=es_index, body=es_bodies[i])\n",
    "    res = res.get(\"hits\").get(\"hits\")\n",
    "\n",
    "    results = [] # list of (id, score)\n",
    "    for doc in res: # 1000개\n",
    "        id = doc.get('_source').get('nct_id')[0]\n",
    "        score = doc.get('_score')\n",
    "        results.append((id, score))\n",
    "\n",
    "    result_list.append(results)"
   ],
   "metadata": {
    "collapsed": false
   }
  },
  {
   "cell_type": "code",
   "execution_count": 32,
   "outputs": [
    {
     "name": "stdout",
     "output_type": "stream",
     "text": [
      "ID, Score: 50\n",
      "ID, Score: ('NCT00912470', 70.345894)\n"
     ]
    }
   ],
   "source": [
    "# 1번째 토픽의 1000번째 검색결과\n",
    "print(f\"ID, Score: {len(result_list)}\")\n",
    "print(f\"ID, Score: {result_list[0][999]}\")"
   ],
   "metadata": {
    "collapsed": false
   }
  },
  {
   "cell_type": "markdown",
   "source": [
    "***\n",
    "## 3. TREC_EVAL\n",
    "### Write Result file"
   ],
   "metadata": {
    "collapsed": false
   }
  },
  {
   "cell_type": "code",
   "execution_count": 43,
   "outputs": [],
   "source": [
    "# RUN and SAVE file name\n",
    "run_name = \"run_jbnu1\""
   ],
   "metadata": {
    "collapsed": false
   }
  },
  {
   "cell_type": "code",
   "execution_count": 51,
   "outputs": [
    {
     "name": "stdout",
     "output_type": "stream",
     "text": [
      "Now: C:\\Users\\Lee\\PycharmProjects\\search_script_for_TREC\n"
     ]
    }
   ],
   "source": [
    "# TOPIC_NO Q0 ID RANK SCORE RUN_NAME\n",
    "# TOPIC_NO: 질의 번호\n",
    "# ID: 문서 번호\n",
    "# RANK: 문서 등수 (1~1000등까지 문서 점수 순으로 출력, 최대 문서는 1000개까지)\n",
    "# SCORE: 문서 점수\n",
    "# RUN_NAME: 검색 결과 이름 (알파벳 12자까지 가능)\n",
    "# ex) 1 Q0 NCT00760162 1 0.9999 my-run\n",
    "\n",
    "def write_result_file(file, topic_no: int, result: tuple):\n",
    "    for i, (id, score) in enumerate(result):\n",
    "        i += 1\n",
    "        file.write(f\"{topic_no} Q0 {id} {i} {score} {run_name}\\n\")\n",
    "\n",
    "def make_dir(dir_name: str):\n",
    "    if not os.path.exists(dir_name):\n",
    "        os.makedirs(dir_name)\n",
    "\n",
    "current_path = os.getcwd()\n",
    "print(f'Now: {current_path}')"
   ],
   "metadata": {
    "collapsed": false
   }
  },
  {
   "cell_type": "code",
   "execution_count": 58,
   "outputs": [],
   "source": [
    "trec_eval_path = f'{current_path}/trec_eval-9.0.7'\n",
    "\n",
    "make_dir('results')\n",
    "result_file = f'{current_path}/results/{run_name}.txt'\n",
    "qrels_file = f'{current_path}/datasets/qrels-2022.txt'\n",
    "\n",
    "with open(result_file, 'w') as file:\n",
    "    topic_no = 1\n",
    "\n",
    "    for each_result in result_list:\n",
    "        write_result_file(file, topic_no, each_result)\n",
    "        topic_no += 1"
   ],
   "metadata": {
    "collapsed": false
   }
  },
  {
   "cell_type": "markdown",
   "source": [
    "### Run TREC_EVAL program\n",
    "#### Download -> https://trec.nist.gov/trec_eval/"
   ],
   "metadata": {
    "collapsed": false
   }
  },
  {
   "cell_type": "code",
   "execution_count": 61,
   "outputs": [],
   "source": [
    "# Move path to trec_eval repos.\n",
    "os.chdir(trec_eval_path)\n",
    "\n",
    "# For non-ndcg\n",
    "cmd_others = f\"./trec_eval -c -q -l 2 {qrels_file} {result_file}\"\n",
    "# For ndcg\n",
    "cmd_ndcg = f\"./trec_eval -c -q -m ndcg_cut {qrels_file} {result_file}\""
   ],
   "metadata": {
    "collapsed": false
   }
  },
  {
   "cell_type": "code",
   "execution_count": 62,
   "outputs": [],
   "source": [
    "stream = os.popen(cmd_others)\n",
    "eval_others = stream.read()\n",
    "eval_others = eval_others.split('\\n')\n",
    "\n",
    "stream = os.popen(cmd_ndcg)\n",
    "eval_ndcg = stream.read()\n",
    "eval_ndcg = eval_ndcg.split('\\n')\n",
    "\n",
    "# Write evaluated file and Move back to origin repos.\n",
    "os.chdir(current_path)\n",
    "make_dir('evaluations')\n",
    "with open(f'evaluations/eval_{run_name}.txt', 'w') as f:\n",
    "    for i in range(1350, len(eval_others)):\n",
    "        f.write(eval_others[i] + '\\n')\n",
    "\n",
    "    for i in range(450, len(eval_ndcg)):\n",
    "        f.write(eval_ndcg[i] + '\\n')"
   ],
   "metadata": {
    "collapsed": false
   }
  }
 ],
 "metadata": {
  "kernelspec": {
   "display_name": "Python 3",
   "language": "python",
   "name": "python3"
  },
  "language_info": {
   "codemirror_mode": {
    "name": "ipython",
    "version": 2
   },
   "file_extension": ".py",
   "mimetype": "text/x-python",
   "name": "python",
   "nbconvert_exporter": "python",
   "pygments_lexer": "ipython2",
   "version": "2.7.6"
  }
 },
 "nbformat": 4,
 "nbformat_minor": 0
}
